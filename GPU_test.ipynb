{
 "cells": [
  {
   "cell_type": "code",
   "execution_count": 5,
   "metadata": {},
   "outputs": [
    {
     "name": "stdout",
     "output_type": "stream",
     "text": [
      "Pytorch 버전: 1.12.0\n",
      "쿠다 가능 :True\n",
      "현재 디바이스 :0\n",
      "디바이스 갯수 :1\n",
      "디바이스 :<torch.cuda.device object at 0x000001A8332FDE20>\n",
      "디바이스 이름 :NVIDIA GeForce GTX 1660\n"
     ]
    }
   ],
   "source": [
    "import torch\n",
    "print(\"Pytorch 버전:\",torch.__version__)\n",
    "print(\"쿠다 가능 :{}\".format(torch.cuda.is_available()))\n",
    "print(\"현재 디바이스 :{}\".format(torch.cuda.current_device()))\n",
    "print(\"디바이스 갯수 :{}\".format(torch.cuda.device_count()))\n",
    "\n",
    "\n",
    "for idx in range(0, torch.cuda.device_count()):\n",
    "    print(\"디바이스 :{}\".format(torch.cuda.device(idx)))\n",
    "    print(\"디바이스 이름 :{}\".format(torch.cuda.get_device_name(idx)))"
   ]
  }
 ],
 "metadata": {
  "kernelspec": {
   "display_name": "Python 3.8.13 ('GAN')",
   "language": "python",
   "name": "python3"
  },
  "language_info": {
   "codemirror_mode": {
    "name": "ipython",
    "version": 3
   },
   "file_extension": ".py",
   "mimetype": "text/x-python",
   "name": "python",
   "nbconvert_exporter": "python",
   "pygments_lexer": "ipython3",
   "version": "3.8.13"
  },
  "orig_nbformat": 4,
  "vscode": {
   "interpreter": {
    "hash": "27188a68af24359f716f42331a05ac5c5dd63b6f781f49d2f8f4a4081f86e482"
   }
  }
 },
 "nbformat": 4,
 "nbformat_minor": 2
}
